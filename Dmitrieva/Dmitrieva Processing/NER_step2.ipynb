{
  "nbformat": 4,
  "nbformat_minor": 0,
  "metadata": {
    "colab": {
      "provenance": []
    },
    "kernelspec": {
      "name": "python3",
      "display_name": "Python 3"
    },
    "language_info": {
      "name": "python"
    }
  },
  "cells": [
    {
      "cell_type": "code",
      "source": [
        "import pandas as pd\n",
        "import pymorphy2\n",
        "import csv\n",
        "\n",
        "# Initialize the pymorphy2 MorphAnalyzer for Russian\n",
        "morph = pymorphy2.MorphAnalyzer()\n",
        "\n",
        "# Function to normalize a Russian word to its base form\n",
        "def normalize_word(word):\n",
        "    parsed_word = morph.parse(word)[0]  # Get the most likely parse\n",
        "    return parsed_word.normal_form  # Return the normalized form\n",
        "\n",
        "# Load the CSV file with the correct encoding, delimiter, and handling for messy data\n",
        "df = pd.read_csv('NER_step1_processed.csv',\n",
        "                 encoding='cp1251',\n",
        "                 quoting=csv.QUOTE_ALL,\n",
        "                 on_bad_lines='skip',\n",
        "                 sep=';')  # Use semicolon as the delimiter\n",
        "\n",
        "# Print the column names to confirm\n",
        "print(\"Column names in the DataFrame:\", df.columns.tolist())\n",
        "\n",
        "# Apply normalization to the 'entity_text' column\n",
        "df['entity_text'] = df['entity_text'].apply(normalize_word)\n",
        "\n",
        "# Save the updated DataFrame back to a CSV file (using UTF-8 for the output)\n",
        "df.to_csv('NER_step2_processed.csv', index=False, encoding='utf-8')\n",
        "\n",
        "print(\"Normalization complete. File saved as 'NER_step2_processed.csv'.\")"
      ],
      "metadata": {
        "colab": {
          "base_uri": "https://localhost:8080/"
        },
        "id": "OPAbcHrt9Gqe",
        "outputId": "d9c09069-42bf-4cfd-8e59-48e78df9ab14"
      },
      "execution_count": 26,
      "outputs": [
        {
          "output_type": "stream",
          "name": "stdout",
          "text": [
            "Column names in the DataFrame: ['original_text', 'entity_text', 'entity_type']\n",
            "Normalization complete. File saved as 'NER_step2_processed.csv'.\n"
          ]
        }
      ]
    },
    {
      "cell_type": "code",
      "source": [],
      "metadata": {
        "id": "KXcyzsogBBZM"
      },
      "execution_count": null,
      "outputs": []
    }
  ]
}